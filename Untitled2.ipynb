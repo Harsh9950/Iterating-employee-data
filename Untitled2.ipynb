{
  "nbformat": 4,
  "nbformat_minor": 0,
  "metadata": {
    "colab": {
      "provenance": [],
      "authorship_tag": "ABX9TyMQ2LX3zcoM0Mx4xNVgYRhK",
      "include_colab_link": true
    },
    "kernelspec": {
      "name": "python3",
      "display_name": "Python 3"
    },
    "language_info": {
      "name": "python"
    }
  },
  "cells": [
    {
      "cell_type": "markdown",
      "metadata": {
        "id": "view-in-github",
        "colab_type": "text"
      },
      "source": [
        "<a href=\"https://colab.research.google.com/github/Harsh9950/Iterating-employee-data/blob/main/Untitled2.ipynb\" target=\"_parent\"><img src=\"https://colab.research.google.com/assets/colab-badge.svg\" alt=\"Open In Colab\"/></a>"
      ]
    },
    {
      "cell_type": "code",
      "execution_count": 13,
      "metadata": {
        "id": "sh804Nmm5Gus"
      },
      "outputs": [],
      "source": [
        "import datetime\n",
        "\n",
        "def iterate_over_records(file_path):\n",
        "\n",
        "  # Create a dictionary to store the employee data.\n",
        "  employee_data = {}\n",
        "\n",
        "  # Open the file for reading.\n",
        "  with open(file_path, \"r\") as f:\n",
        "    for line in f:\n",
        "      # Split the line into fields.\n",
        "      fields = line.split(\"\\t\")\n",
        "\n",
        "      # Check if the employee name column exists.\n",
        "      if len(fields) >= 8:\n",
        "        employee_name = fields[7]\n",
        "      else:\n",
        "        employee_name = \"\"\n",
        "\n",
        "      # Check if the position column exists.\n",
        "      if len(fields) >= 2:\n",
        "        position = fields[1]\n",
        "      else:\n",
        "        position = \"\"\n",
        "\n",
        "      # Check if the time in column exists.\n",
        "      if len(fields) >= 3:\n",
        "        time_in = datetime.datetime.strptime(fields[2], \"%m/%d/%Y %H:%M %p\")\n",
        "      else:\n",
        "        time_in = datetime.datetime.min\n",
        "\n",
        "      # Check if the time out column exists.\n",
        "      if len(fields) >= 4:\n",
        "        time_out = datetime.datetime.strptime(fields[3], \"%m/%d/%Y %H:%M %p\")\n",
        "      else:\n",
        "        time_out = datetime.datetime.min\n",
        "\n",
        "      # Add the employee data to the dictionary.\n",
        "      if employee_id not in employee_data:\n",
        "        employee_data[employee_id] = []\n",
        "\n",
        "      employee_data[employee_id].append((time_in, time_out))\n",
        "\n",
        "  # Iterate over the employee data.\n",
        "  for employee_id, employee_shifts in employee_data.items():\n",
        "    # Check if the employee has worked for 7 consecutive days.\n",
        "    if len(employee_shifts) >= 7:\n",
        "      consecutive_days = 0\n",
        "      for i in range(len(employee_shifts) - 1):\n",
        "        if employee_shifts[i][1] < employee_shifts[i + 1][0] + datetime.timedelta(days=1):\n",
        "          consecutive_days += 1\n",
        "\n",
        "      if consecutive_days >= 7:\n",
        "        print(f\"Employee {employee_name} has worked for 7 consecutive days.\")\n",
        "\n",
        "    # Check if the employee has less than 10 hours of time between shifts but greater than 1 hour.\n",
        "    for i in range(len(employee_shifts) - 1):\n",
        "      time_between_shifts = employee_shifts[i + 1][0] - employee_shifts[i][1]\n",
        "\n",
        "      if time_between_shifts > datetime.timedelta(hours=1) and time_between_shifts < datetime.timedelta(hours=10):\n",
        "        print(f\"Employee {employee_name} has less than 10 hours of time between shifts but greater than 1 hour.\")\n",
        "\n",
        "    # Check if the employee has worked for more than 14 hours in a single shift.\n",
        "    for shift in employee_shifts:\n",
        "      shift_duration = shift[1] - shift[0]\n",
        "\n",
        "      if shift_duration > datetime.timedelta(hours=14):\n",
        "        print(f\"Employee{employee_name} has workin of more than 14 hours of time.\")\n"
      ]
    }
  ]
}